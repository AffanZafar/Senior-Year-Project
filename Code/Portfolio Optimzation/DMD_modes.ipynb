{
 "cells": [
  {
   "cell_type": "code",
   "execution_count": 2,
   "metadata": {},
   "outputs": [],
   "source": [
    "import pandas as pd\n",
    "import datetime\n",
    "import pandas_datareader.data as web\n",
    "from pandas import Series, DataFrame\n",
    "import matplotlib.pyplot as plt\n",
    "from matplotlib import style\n",
    "import numpy as np\n",
    "from numpy import linalg as la\n",
    "from sklearn import preprocessing\n"
   ]
  },
  {
   "cell_type": "code",
   "execution_count": 3,
   "metadata": {},
   "outputs": [],
   "source": [
    "#Loading the data\n",
    "start = datetime.datetime(2011, 7, 30)\n",
    "end = datetime.datetime(2021, 7, 30)\n",
    "df_SBUX = web.DataReader(\"SBUX\", 'yahoo', start, end)\n",
    "sbux = df_SBUX['Close'].values\n",
    "sbux = np.reshape(sbux,(1,-1))\n",
    "df_MCD = web.DataReader(\"MCD\", 'yahoo', start, end)\n",
    "mcd = df_MCD['Close'].values\n",
    "mcd = np.reshape(mcd,(1,-1))\n"
   ]
  },
  {
   "cell_type": "code",
   "execution_count": 12,
   "metadata": {},
   "outputs": [
    {
     "name": "stdout",
     "output_type": "stream",
     "text": [
      "(2, 2517)\n"
     ]
    }
   ],
   "source": [
    "X = np.vstack((sbux,mcd)) \n",
    "X1 = np.delete(X, -1, 1) #X_k\n",
    "X2 = np.delete(X, 0, 1) #X_k+1 (one day)\n",
    "print(X1.shape)"
   ]
  },
  {
   "cell_type": "code",
   "execution_count": 9,
   "metadata": {},
   "outputs": [
    {
     "name": "stdout",
     "output_type": "stream",
     "text": [
      "condition number for X1: 16.94216567652701\n",
      "Condition number for normalized X1: 11.935084795944075\n"
     ]
    }
   ],
   "source": [
    "X1_normalized = preprocessing.normalize(X1, norm='l2')\n",
    "X1_normalized\n",
    "\n",
    "X2_normalized = preprocessing.normalize(X2, norm='l2')\n",
    "X2_normalized\n",
    "\n",
    "print(\"condition number for X1:\", la.cond(X1)) \n",
    "print(\"Condition number for normalized X1:\",la.cond(X1_normalized))"
   ]
  },
  {
   "cell_type": "code",
   "execution_count": 10,
   "metadata": {},
   "outputs": [],
   "source": [
    "U, s, vh = np.linalg.svd(X1_normalized, full_matrices=True)\n",
    "S = np.diag(s)"
   ]
  },
  {
   "cell_type": "code",
   "execution_count": 15,
   "metadata": {},
   "outputs": [
    {
     "data": {
      "text/plain": [
       "array([[ 9.99914082e-01,  1.14769110e-03],\n",
       "       [-3.05521254e-05,  9.96654833e-01]])"
      ]
     },
     "execution_count": 15,
     "metadata": {},
     "output_type": "execute_result"
    }
   ],
   "source": [
    "#taking the transpose of U, V and taking the inverse of S\n",
    "UT = U.T \n",
    "V = vh.T  \n",
    "arr = np.zeros((2,2515))\n",
    "ST = np.concatenate((la.inv(S),arr), axis =1)\n",
    "Atilde = UT @ X2_normalized @ V @ ST.T \n",
    "\n",
    "Atilde"
   ]
  },
  {
   "cell_type": "code",
   "execution_count": 16,
   "metadata": {},
   "outputs": [
    {
     "name": "stdout",
     "output_type": "stream",
     "text": [
      "[0.99990329 0.99666563] [[ 0.99995577 -0.33312405]\n",
      " [-0.00940471  0.94288301]]\n"
     ]
    }
   ],
   "source": [
    "values,vector = la.eig(Atilde)\n",
    "print(values, vector)"
   ]
  },
  {
   "cell_type": "code",
   "execution_count": 18,
   "metadata": {},
   "outputs": [
    {
     "data": {
      "text/plain": [
       "array([[-0.70035764, -0.42972703],\n",
       "       [-0.71365662,  0.89926473]])"
      ]
     },
     "execution_count": 18,
     "metadata": {},
     "output_type": "execute_result"
    }
   ],
   "source": [
    "phi = X2_normalized @ V @ ST.T @ vector\n",
    "\n",
    "phi"
   ]
  },
  {
   "cell_type": "code",
   "execution_count": null,
   "metadata": {},
   "outputs": [],
   "source": []
  }
 ],
 "metadata": {
  "kernelspec": {
   "display_name": "Python 3",
   "language": "python",
   "name": "python3"
  },
  "language_info": {
   "codemirror_mode": {
    "name": "ipython",
    "version": 3
   },
   "file_extension": ".py",
   "mimetype": "text/x-python",
   "name": "python",
   "nbconvert_exporter": "python",
   "pygments_lexer": "ipython3",
   "version": "3.8.5"
  }
 },
 "nbformat": 4,
 "nbformat_minor": 4
}
